{
 "cells": [
  {
   "cell_type": "code",
   "execution_count": 9,
   "metadata": {},
   "outputs": [],
   "source": [
    "import sentencepiece\n",
    "import pandas as pd "
   ]
  },
  {
   "cell_type": "code",
   "execution_count": 10,
   "metadata": {},
   "outputs": [],
   "source": [
    "df_amh_news = pd.read_csv('../data/amharic_news.csv')"
   ]
  },
  {
   "cell_type": "code",
   "execution_count": 11,
   "metadata": {},
   "outputs": [
    {
     "data": {
      "text/html": [
       "<div>\n",
       "<style scoped>\n",
       "    .dataframe tbody tr th:only-of-type {\n",
       "        vertical-align: middle;\n",
       "    }\n",
       "\n",
       "    .dataframe tbody tr th {\n",
       "        vertical-align: top;\n",
       "    }\n",
       "\n",
       "    .dataframe thead th {\n",
       "        text-align: right;\n",
       "    }\n",
       "</style>\n",
       "<table border=\"1\" class=\"dataframe\">\n",
       "  <thead>\n",
       "    <tr style=\"text-align: right;\">\n",
       "      <th></th>\n",
       "      <th>headline</th>\n",
       "      <th>category</th>\n",
       "      <th>date</th>\n",
       "      <th>views</th>\n",
       "      <th>article</th>\n",
       "      <th>link</th>\n",
       "    </tr>\n",
       "  </thead>\n",
       "  <tbody>\n",
       "    <tr>\n",
       "      <th>0</th>\n",
       "      <td>የኦሊምፒክ ማጣሪያ ተሳታፊዎች የሚለዩበት ቻምፒዮና እየተካሄደ ይገኛል</td>\n",
       "      <td>ስፖርት</td>\n",
       "      <td>January 14, 2021</td>\n",
       "      <td>2</td>\n",
       "      <td>ብርሃን ፈይሳየኢትዮጵያ ቦክስ ፌዴሬሽን በየዓመቱ የሚያዘጋጀው የክለቦች ቻ...</td>\n",
       "      <td>https://www.press.et/Ama/?p=39481</td>\n",
       "    </tr>\n",
       "    <tr>\n",
       "      <th>1</th>\n",
       "      <td>አዲስ ዘመን ድሮ</td>\n",
       "      <td>መዝናኛ</td>\n",
       "      <td>December 28, 2020</td>\n",
       "      <td>4</td>\n",
       "      <td>የአዲስ ዘመን ጋዜጣ ቀደምት ዘገባዎች በእጅጉ ተነባቢ ዛሬም ላገኛቸው በ...</td>\n",
       "      <td>https://www.press.et/Ama/?p=38334</td>\n",
       "    </tr>\n",
       "    <tr>\n",
       "      <th>2</th>\n",
       "      <td>የአረንጓዴ ጎርፍ በጎ አድራጎት አምባሳደሮች ተሰየሙ</td>\n",
       "      <td>ስፖርት</td>\n",
       "      <td>January 6, 2021</td>\n",
       "      <td>6</td>\n",
       "      <td>ቦጋለ አበበየአዲስ አበባ ከተማ አስተዳደር ስፖርት ኮሚሽን ከኢትዮጵያ አረ...</td>\n",
       "      <td>https://www.press.et/Ama/?p=39010</td>\n",
       "    </tr>\n",
       "    <tr>\n",
       "      <th>3</th>\n",
       "      <td>የሊጉ በቢዝነስ ሞዴል መመራት አበረታች ጅምር መሆኑ ተገለጸ</td>\n",
       "      <td>ስፖርት</td>\n",
       "      <td>January 6, 2021</td>\n",
       "      <td>5</td>\n",
       "      <td>ብርሃን ፈይሳአዲስ አበባ፡- የኢትዮጵያ ፕሪምየር ሊግ በሼር ካምፓኒ እንዲ...</td>\n",
       "      <td>https://www.press.et/Ama/?p=39011</td>\n",
       "    </tr>\n",
       "    <tr>\n",
       "      <th>4</th>\n",
       "      <td>የኦሊምፒክ ሥራ አስፈፃሚው እስከ ቶኪዮ ኦሊምፒክ ማግስት ይቀጥላል</td>\n",
       "      <td>ስፖርት</td>\n",
       "      <td>January 6, 2021</td>\n",
       "      <td>12</td>\n",
       "      <td>ቦጋለ አበበ የኢትዮጵያ ኦሊምፒክ ኮሚቴ አርባ አምስተኛ መደበኛ ጠቅላላ ጉ...</td>\n",
       "      <td>https://www.press.et/Ama/?p=39012</td>\n",
       "    </tr>\n",
       "  </tbody>\n",
       "</table>\n",
       "</div>"
      ],
      "text/plain": [
       "                                      headline category               date  \\\n",
       "0  የኦሊምፒክ ማጣሪያ ተሳታፊዎች የሚለዩበት ቻምፒዮና እየተካሄደ ይገኛል     ስፖርት   January 14, 2021   \n",
       "1                                   አዲስ ዘመን ድሮ     መዝናኛ  December 28, 2020   \n",
       "2             የአረንጓዴ ጎርፍ በጎ አድራጎት አምባሳደሮች ተሰየሙ     ስፖርት    January 6, 2021   \n",
       "3        የሊጉ በቢዝነስ ሞዴል መመራት አበረታች ጅምር መሆኑ ተገለጸ     ስፖርት    January 6, 2021   \n",
       "4    የኦሊምፒክ ሥራ አስፈፃሚው እስከ ቶኪዮ ኦሊምፒክ ማግስት ይቀጥላል     ስፖርት    January 6, 2021   \n",
       "\n",
       "  views                                            article  \\\n",
       "0     2  ብርሃን ፈይሳየኢትዮጵያ ቦክስ ፌዴሬሽን በየዓመቱ የሚያዘጋጀው የክለቦች ቻ...   \n",
       "1     4   የአዲስ ዘመን ጋዜጣ ቀደምት ዘገባዎች በእጅጉ ተነባቢ ዛሬም ላገኛቸው በ...   \n",
       "2     6  ቦጋለ አበበየአዲስ አበባ ከተማ አስተዳደር ስፖርት ኮሚሽን ከኢትዮጵያ አረ...   \n",
       "3     5  ብርሃን ፈይሳአዲስ አበባ፡- የኢትዮጵያ ፕሪምየር ሊግ በሼር ካምፓኒ እንዲ...   \n",
       "4    12  ቦጋለ አበበ የኢትዮጵያ ኦሊምፒክ ኮሚቴ አርባ አምስተኛ መደበኛ ጠቅላላ ጉ...   \n",
       "\n",
       "                                link  \n",
       "0  https://www.press.et/Ama/?p=39481  \n",
       "1  https://www.press.et/Ama/?p=38334  \n",
       "2  https://www.press.et/Ama/?p=39010  \n",
       "3  https://www.press.et/Ama/?p=39011  \n",
       "4  https://www.press.et/Ama/?p=39012  "
      ]
     },
     "execution_count": 11,
     "metadata": {},
     "output_type": "execute_result"
    }
   ],
   "source": [
    "df_amh_news.head()"
   ]
  },
  {
   "cell_type": "code",
   "execution_count": 12,
   "metadata": {},
   "outputs": [
    {
     "name": "stderr",
     "output_type": "stream",
     "text": [
      "sentencepiece_trainer.cc(78) LOG(INFO) Starts training with : \n",
      "trainer_spec {\n",
      "  input_format: \n",
      "  model_prefix: amh_tokenizer_model\n",
      "  model_type: UNIGRAM\n",
      "  vocab_size: 1000\n",
      "  self_test_sample_size: 0\n",
      "  character_coverage: 0.9995\n",
      "  input_sentence_size: 0\n",
      "  shuffle_input_sentence: 1\n",
      "  seed_sentencepiece_size: 1000000\n",
      "  shrinking_factor: 0.75\n",
      "  max_sentence_length: 4192\n",
      "  num_threads: 16\n",
      "  num_sub_iterations: 2\n",
      "  max_sentencepiece_length: 16\n",
      "  split_by_unicode_script: 1\n",
      "  split_by_number: 1\n",
      "  split_by_whitespace: 1\n",
      "  split_digits: 0\n",
      "  pretokenization_delimiter: \n",
      "  treat_whitespace_as_suffix: 0\n",
      "  allow_whitespace_only_pieces: 0\n",
      "  required_chars: \n",
      "  byte_fallback: 0\n",
      "  vocabulary_output_piece_score: 1\n",
      "  train_extremely_large_corpus: 0\n",
      "  seed_sentencepieces_file: \n",
      "  hard_vocab_limit: 1\n",
      "  use_all_vocab: 0\n",
      "  unk_id: 1\n",
      "  bos_id: 2\n",
      "  eos_id: 3\n",
      "  pad_id: 0\n",
      "  unk_piece: <unk>\n",
      "  bos_piece: <s>\n",
      "  eos_piece: </s>\n",
      "  pad_piece: <pad>\n",
      "  unk_surface:  ⁇ \n",
      "  enable_differential_privacy: 0\n",
      "  differential_privacy_noise_level: 0\n",
      "  differential_privacy_clipping_threshold: 0\n",
      "}\n",
      "normalizer_spec {\n",
      "  name: nmt_nfkc\n",
      "  add_dummy_prefix: 1\n",
      "  remove_extra_whitespaces: 1\n",
      "  escape_whitespaces: 1\n",
      "  normalization_rule_tsv: \n",
      "}\n",
      "denormalizer_spec {}\n",
      "trainer_interface.cc(380) LOG(WARNING) Found too long line (6472 > 4192).\n",
      "trainer_interface.cc(382) LOG(WARNING) Too long lines are skipped in the training.\n",
      "trainer_interface.cc(383) LOG(WARNING) The maximum length can be changed with --max_sentence_length=<size> flag.\n",
      "trainer_interface.cc(409) LOG(INFO) Loaded all 37641 sentences\n",
      "trainer_interface.cc(416) LOG(INFO) Skipped 13795 too long sentences.\n",
      "trainer_interface.cc(425) LOG(INFO) Adding meta_piece: <pad>\n",
      "trainer_interface.cc(425) LOG(INFO) Adding meta_piece: <unk>\n",
      "trainer_interface.cc(425) LOG(INFO) Adding meta_piece: <s>\n",
      "trainer_interface.cc(425) LOG(INFO) Adding meta_piece: </s>\n",
      "trainer_interface.cc(430) LOG(INFO) Normalizing sentences...\n",
      "trainer_interface.cc(539) LOG(INFO) all chars count=29351121\n",
      "trainer_interface.cc(550) LOG(INFO) Done: 99.9513% characters are covered.\n",
      "trainer_interface.cc(560) LOG(INFO) Alphabet size=308\n",
      "trainer_interface.cc(561) LOG(INFO) Final character coverage=0.999513\n",
      "trainer_interface.cc(592) LOG(INFO) Done! preprocessed 37334 sentences.\n",
      "unigram_model_trainer.cc(265) LOG(INFO) Making suffix array...\n",
      "unigram_model_trainer.cc(269) LOG(INFO) Extracting frequent sub strings... node_num=13808715\n",
      "unigram_model_trainer.cc(312) LOG(INFO) Initialized 555265 seed sentencepieces\n",
      "trainer_interface.cc(598) LOG(INFO) Tokenizing input sentences with whitespace: 37334\n",
      "trainer_interface.cc(609) LOG(INFO) Done! 464406\n",
      "unigram_model_trainer.cc(602) LOG(INFO) Using 464406 sentences for EM training\n",
      "unigram_model_trainer.cc(618) LOG(INFO) EM sub_iter=0 size=208272 obj=13.0442 num_tokens=939125 num_tokens/piece=4.50913\n",
      "unigram_model_trainer.cc(618) LOG(INFO) EM sub_iter=1 size=178312 obj=11.2585 num_tokens=942660 num_tokens/piece=5.28658\n",
      "unigram_model_trainer.cc(618) LOG(INFO) EM sub_iter=0 size=133690 obj=11.2405 num_tokens=987147 num_tokens/piece=7.38385\n",
      "unigram_model_trainer.cc(618) LOG(INFO) EM sub_iter=1 size=133540 obj=11.2195 num_tokens=987798 num_tokens/piece=7.39702\n",
      "unigram_model_trainer.cc(618) LOG(INFO) EM sub_iter=0 size=100150 obj=11.3021 num_tokens=1048335 num_tokens/piece=10.4676\n",
      "unigram_model_trainer.cc(618) LOG(INFO) EM sub_iter=1 size=100142 obj=11.2797 num_tokens=1048417 num_tokens/piece=10.4693\n",
      "unigram_model_trainer.cc(618) LOG(INFO) EM sub_iter=0 size=75104 obj=11.4023 num_tokens=1114715 num_tokens/piece=14.8423\n",
      "unigram_model_trainer.cc(618) LOG(INFO) EM sub_iter=1 size=75104 obj=11.3724 num_tokens=1114778 num_tokens/piece=14.8431\n",
      "unigram_model_trainer.cc(618) LOG(INFO) EM sub_iter=0 size=56328 obj=11.5322 num_tokens=1183892 num_tokens/piece=21.0178\n",
      "unigram_model_trainer.cc(618) LOG(INFO) EM sub_iter=1 size=56328 obj=11.4973 num_tokens=1183900 num_tokens/piece=21.018\n",
      "unigram_model_trainer.cc(618) LOG(INFO) EM sub_iter=0 size=42246 obj=11.7046 num_tokens=1256452 num_tokens/piece=29.7413\n",
      "unigram_model_trainer.cc(618) LOG(INFO) EM sub_iter=1 size=42246 obj=11.6609 num_tokens=1256568 num_tokens/piece=29.7441\n",
      "unigram_model_trainer.cc(618) LOG(INFO) EM sub_iter=0 size=31684 obj=11.9173 num_tokens=1332236 num_tokens/piece=42.0476\n",
      "unigram_model_trainer.cc(618) LOG(INFO) EM sub_iter=1 size=31684 obj=11.8638 num_tokens=1332266 num_tokens/piece=42.0485\n",
      "unigram_model_trainer.cc(618) LOG(INFO) EM sub_iter=0 size=23763 obj=12.171 num_tokens=1413763 num_tokens/piece=59.4943\n",
      "unigram_model_trainer.cc(618) LOG(INFO) EM sub_iter=1 size=23763 obj=12.1073 num_tokens=1413806 num_tokens/piece=59.4961\n",
      "unigram_model_trainer.cc(618) LOG(INFO) EM sub_iter=0 size=17822 obj=12.4636 num_tokens=1496024 num_tokens/piece=83.9425\n",
      "unigram_model_trainer.cc(618) LOG(INFO) EM sub_iter=1 size=17822 obj=12.389 num_tokens=1496110 num_tokens/piece=83.9474\n",
      "unigram_model_trainer.cc(618) LOG(INFO) EM sub_iter=0 size=13366 obj=12.8049 num_tokens=1582337 num_tokens/piece=118.385\n",
      "unigram_model_trainer.cc(618) LOG(INFO) EM sub_iter=1 size=13366 obj=12.7184 num_tokens=1582361 num_tokens/piece=118.387\n",
      "unigram_model_trainer.cc(618) LOG(INFO) EM sub_iter=0 size=10024 obj=13.195 num_tokens=1672217 num_tokens/piece=166.821\n",
      "unigram_model_trainer.cc(618) LOG(INFO) EM sub_iter=1 size=10024 obj=13.0961 num_tokens=1672253 num_tokens/piece=166.825\n",
      "unigram_model_trainer.cc(618) LOG(INFO) EM sub_iter=0 size=7518 obj=13.6312 num_tokens=1766366 num_tokens/piece=234.952\n",
      "unigram_model_trainer.cc(618) LOG(INFO) EM sub_iter=1 size=7518 obj=13.5211 num_tokens=1766409 num_tokens/piece=234.957\n",
      "unigram_model_trainer.cc(618) LOG(INFO) EM sub_iter=0 size=5638 obj=14.1084 num_tokens=1868415 num_tokens/piece=331.397\n",
      "unigram_model_trainer.cc(618) LOG(INFO) EM sub_iter=1 size=5638 obj=13.9876 num_tokens=1868452 num_tokens/piece=331.403\n",
      "unigram_model_trainer.cc(618) LOG(INFO) EM sub_iter=0 size=4228 obj=14.6232 num_tokens=1976542 num_tokens/piece=467.489\n",
      "unigram_model_trainer.cc(618) LOG(INFO) EM sub_iter=1 size=4228 obj=14.49 num_tokens=1977782 num_tokens/piece=467.782\n",
      "unigram_model_trainer.cc(618) LOG(INFO) EM sub_iter=0 size=3171 obj=15.1838 num_tokens=2085680 num_tokens/piece=657.736\n",
      "unigram_model_trainer.cc(618) LOG(INFO) EM sub_iter=1 size=3171 obj=15.0396 num_tokens=2085696 num_tokens/piece=657.741\n",
      "unigram_model_trainer.cc(618) LOG(INFO) EM sub_iter=0 size=2378 obj=15.8189 num_tokens=2197162 num_tokens/piece=923.954\n",
      "unigram_model_trainer.cc(618) LOG(INFO) EM sub_iter=1 size=2378 obj=15.6536 num_tokens=2197165 num_tokens/piece=923.955\n",
      "unigram_model_trainer.cc(618) LOG(INFO) EM sub_iter=0 size=1783 obj=16.5137 num_tokens=2321037 num_tokens/piece=1301.76\n",
      "unigram_model_trainer.cc(618) LOG(INFO) EM sub_iter=1 size=1783 obj=16.3376 num_tokens=2321042 num_tokens/piece=1301.76\n",
      "unigram_model_trainer.cc(618) LOG(INFO) EM sub_iter=0 size=1337 obj=17.2523 num_tokens=2459920 num_tokens/piece=1839.88\n",
      "unigram_model_trainer.cc(618) LOG(INFO) EM sub_iter=1 size=1337 obj=17.0654 num_tokens=2459921 num_tokens/piece=1839.88\n",
      "unigram_model_trainer.cc(618) LOG(INFO) EM sub_iter=0 size=1100 obj=17.6827 num_tokens=2547994 num_tokens/piece=2316.36\n",
      "unigram_model_trainer.cc(618) LOG(INFO) EM sub_iter=1 size=1100 obj=17.5552 num_tokens=2547994 num_tokens/piece=2316.36\n",
      "trainer_interface.cc(687) LOG(INFO) Saving model: amh_tokenizer_model.model\n",
      "trainer_interface.cc(699) LOG(INFO) Saving vocabs: amh_tokenizer_model.vocab\n"
     ]
    }
   ],
   "source": [
    "sentencepiece.SentencePieceTrainer.Train(\n",
    "    sentence_iterator = iter(df_amh_news['article']),\n",
    "    model_prefix = 'amh_tokenizer_model',\n",
    "    vocab_size=1000,\n",
    "    pad_id = 0,\n",
    "    unk_id=1,\n",
    "    bos_id=2,\n",
    "    eos_id=3\n",
    "    \n",
    ")"
   ]
  },
  {
   "cell_type": "code",
   "execution_count": 14,
   "metadata": {},
   "outputs": [],
   "source": [
    "sp = sentencepiece.SentencePieceProcessor(model_file='amh_tokenizer_model.model')"
   ]
  },
  {
   "cell_type": "code",
   "execution_count": 24,
   "metadata": {},
   "outputs": [
    {
     "data": {
      "text/plain": [
       "[7,\n",
       " 217,\n",
       " 501,\n",
       " 903,\n",
       " 583,\n",
       " 6,\n",
       " 617,\n",
       " 66,\n",
       " 11,\n",
       " 138,\n",
       " 106,\n",
       " 104,\n",
       " 42,\n",
       " 30,\n",
       " 45,\n",
       " 111,\n",
       " 389,\n",
       " 8,\n",
       " 4,\n",
       " 34,\n",
       " 18,\n",
       " 148,\n",
       " 91]"
      ]
     },
     "execution_count": 24,
     "metadata": {},
     "output_type": "execute_result"
    }
   ],
   "source": [
    "sp.encode('የአዲስ ዘመን ጋዜጣ ቀደምት ዘገባዎች በእጅጉ ተነባቢ ዛሬም ላገኛቸው')"
   ]
  },
  {
   "cell_type": "code",
   "execution_count": 25,
   "metadata": {},
   "outputs": [],
   "source": [
    "encoded = sp.encode('የአዲስ ዘመን ጋዜጣ ቀደምት ዘገባዎች በእጅጉ ተነባቢ ዛሬም ላገኛቸው')"
   ]
  },
  {
   "cell_type": "code",
   "execution_count": 26,
   "metadata": {},
   "outputs": [
    {
     "data": {
      "text/plain": [
       "'የአዲስ ዘመን ጋዜጣ ቀደምት ዘገባዎች በእጅጉ ተነባቢ ዛሬም ላገኛቸው'"
      ]
     },
     "execution_count": 26,
     "metadata": {},
     "output_type": "execute_result"
    }
   ],
   "source": [
    "sp.decode(encoded)"
   ]
  }
 ],
 "metadata": {
  "kernelspec": {
   "display_name": "myenv",
   "language": "python",
   "name": "python3"
  },
  "language_info": {
   "codemirror_mode": {
    "name": "ipython",
    "version": 3
   },
   "file_extension": ".py",
   "mimetype": "text/x-python",
   "name": "python",
   "nbconvert_exporter": "python",
   "pygments_lexer": "ipython3",
   "version": "3.11.7"
  }
 },
 "nbformat": 4,
 "nbformat_minor": 2
}
